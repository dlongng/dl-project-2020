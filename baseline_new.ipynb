{
  "nbformat": 4,
  "nbformat_minor": 0,
  "metadata": {
    "colab": {
      "name": "baseline_new.ipynb",
      "provenance": [],
      "collapsed_sections": []
    },
    "kernelspec": {
      "name": "python3",
      "display_name": "Python 3"
    },
    "accelerator": "GPU"
  },
  "cells": [
    {
      "cell_type": "code",
      "metadata": {
        "id": "3tjlBVOKKW-w",
        "colab": {
          "base_uri": "https://localhost:8080/"
        },
        "outputId": "b7581536-60a6-4acd-c6fb-e718051eac3f"
      },
      "source": [
        "!pip install tfa-nightly"
      ],
      "execution_count": null,
      "outputs": [
        {
          "output_type": "stream",
          "text": [
            "Collecting tfa-nightly\n",
            "\u001b[?25l  Downloading https://files.pythonhosted.org/packages/36/dd/ba377ffcf29ad25d886ee6be3eed3f05beb0919b9ef5e5a1fd9c2ce645c3/tfa_nightly-0.12.0.dev20201201125815-cp36-cp36m-manylinux2010_x86_64.whl (743kB)\n",
            "\r\u001b[K     |▍                               | 10kB 23.9MB/s eta 0:00:01\r\u001b[K     |▉                               | 20kB 30.0MB/s eta 0:00:01\r\u001b[K     |█▎                              | 30kB 21.9MB/s eta 0:00:01\r\u001b[K     |█▊                              | 40kB 26.2MB/s eta 0:00:01\r\u001b[K     |██▏                             | 51kB 24.1MB/s eta 0:00:01\r\u001b[K     |██▋                             | 61kB 26.7MB/s eta 0:00:01\r\u001b[K     |███                             | 71kB 18.1MB/s eta 0:00:01\r\u001b[K     |███▌                            | 81kB 19.5MB/s eta 0:00:01\r\u001b[K     |████                            | 92kB 16.8MB/s eta 0:00:01\r\u001b[K     |████▍                           | 102kB 17.9MB/s eta 0:00:01\r\u001b[K     |████▉                           | 112kB 17.9MB/s eta 0:00:01\r\u001b[K     |█████▎                          | 122kB 17.9MB/s eta 0:00:01\r\u001b[K     |█████▊                          | 133kB 17.9MB/s eta 0:00:01\r\u001b[K     |██████▏                         | 143kB 17.9MB/s eta 0:00:01\r\u001b[K     |██████▋                         | 153kB 17.9MB/s eta 0:00:01\r\u001b[K     |███████                         | 163kB 17.9MB/s eta 0:00:01\r\u001b[K     |███████▌                        | 174kB 17.9MB/s eta 0:00:01\r\u001b[K     |████████                        | 184kB 17.9MB/s eta 0:00:01\r\u001b[K     |████████▍                       | 194kB 17.9MB/s eta 0:00:01\r\u001b[K     |████████▉                       | 204kB 17.9MB/s eta 0:00:01\r\u001b[K     |█████████▎                      | 215kB 17.9MB/s eta 0:00:01\r\u001b[K     |█████████▊                      | 225kB 17.9MB/s eta 0:00:01\r\u001b[K     |██████████▏                     | 235kB 17.9MB/s eta 0:00:01\r\u001b[K     |██████████▋                     | 245kB 17.9MB/s eta 0:00:01\r\u001b[K     |███████████                     | 256kB 17.9MB/s eta 0:00:01\r\u001b[K     |███████████▌                    | 266kB 17.9MB/s eta 0:00:01\r\u001b[K     |████████████                    | 276kB 17.9MB/s eta 0:00:01\r\u001b[K     |████████████▍                   | 286kB 17.9MB/s eta 0:00:01\r\u001b[K     |████████████▉                   | 296kB 17.9MB/s eta 0:00:01\r\u001b[K     |█████████████▎                  | 307kB 17.9MB/s eta 0:00:01\r\u001b[K     |█████████████▋                  | 317kB 17.9MB/s eta 0:00:01\r\u001b[K     |██████████████                  | 327kB 17.9MB/s eta 0:00:01\r\u001b[K     |██████████████▌                 | 337kB 17.9MB/s eta 0:00:01\r\u001b[K     |███████████████                 | 348kB 17.9MB/s eta 0:00:01\r\u001b[K     |███████████████▍                | 358kB 17.9MB/s eta 0:00:01\r\u001b[K     |███████████████▉                | 368kB 17.9MB/s eta 0:00:01\r\u001b[K     |████████████████▎               | 378kB 17.9MB/s eta 0:00:01\r\u001b[K     |████████████████▊               | 389kB 17.9MB/s eta 0:00:01\r\u001b[K     |█████████████████▏              | 399kB 17.9MB/s eta 0:00:01\r\u001b[K     |█████████████████▋              | 409kB 17.9MB/s eta 0:00:01\r\u001b[K     |██████████████████              | 419kB 17.9MB/s eta 0:00:01\r\u001b[K     |██████████████████▌             | 430kB 17.9MB/s eta 0:00:01\r\u001b[K     |███████████████████             | 440kB 17.9MB/s eta 0:00:01\r\u001b[K     |███████████████████▍            | 450kB 17.9MB/s eta 0:00:01\r\u001b[K     |███████████████████▉            | 460kB 17.9MB/s eta 0:00:01\r\u001b[K     |████████████████████▎           | 471kB 17.9MB/s eta 0:00:01\r\u001b[K     |████████████████████▊           | 481kB 17.9MB/s eta 0:00:01\r\u001b[K     |█████████████████████▏          | 491kB 17.9MB/s eta 0:00:01\r\u001b[K     |█████████████████████▋          | 501kB 17.9MB/s eta 0:00:01\r\u001b[K     |██████████████████████          | 512kB 17.9MB/s eta 0:00:01\r\u001b[K     |██████████████████████▌         | 522kB 17.9MB/s eta 0:00:01\r\u001b[K     |███████████████████████         | 532kB 17.9MB/s eta 0:00:01\r\u001b[K     |███████████████████████▍        | 542kB 17.9MB/s eta 0:00:01\r\u001b[K     |███████████████████████▉        | 552kB 17.9MB/s eta 0:00:01\r\u001b[K     |████████████████████████▎       | 563kB 17.9MB/s eta 0:00:01\r\u001b[K     |████████████████████████▊       | 573kB 17.9MB/s eta 0:00:01\r\u001b[K     |█████████████████████████▏      | 583kB 17.9MB/s eta 0:00:01\r\u001b[K     |█████████████████████████▋      | 593kB 17.9MB/s eta 0:00:01\r\u001b[K     |██████████████████████████      | 604kB 17.9MB/s eta 0:00:01\r\u001b[K     |██████████████████████████▌     | 614kB 17.9MB/s eta 0:00:01\r\u001b[K     |██████████████████████████▉     | 624kB 17.9MB/s eta 0:00:01\r\u001b[K     |███████████████████████████▎    | 634kB 17.9MB/s eta 0:00:01\r\u001b[K     |███████████████████████████▊    | 645kB 17.9MB/s eta 0:00:01\r\u001b[K     |████████████████████████████▏   | 655kB 17.9MB/s eta 0:00:01\r\u001b[K     |████████████████████████████▋   | 665kB 17.9MB/s eta 0:00:01\r\u001b[K     |█████████████████████████████   | 675kB 17.9MB/s eta 0:00:01\r\u001b[K     |█████████████████████████████▌  | 686kB 17.9MB/s eta 0:00:01\r\u001b[K     |██████████████████████████████  | 696kB 17.9MB/s eta 0:00:01\r\u001b[K     |██████████████████████████████▍ | 706kB 17.9MB/s eta 0:00:01\r\u001b[K     |██████████████████████████████▉ | 716kB 17.9MB/s eta 0:00:01\r\u001b[K     |███████████████████████████████▎| 727kB 17.9MB/s eta 0:00:01\r\u001b[K     |███████████████████████████████▊| 737kB 17.9MB/s eta 0:00:01\r\u001b[K     |████████████████████████████████| 747kB 17.9MB/s \n",
            "\u001b[?25hRequirement already satisfied: typeguard>=2.7 in /usr/local/lib/python3.6/dist-packages (from tfa-nightly) (2.7.1)\n",
            "Installing collected packages: tfa-nightly\n",
            "Successfully installed tfa-nightly-0.12.0.dev20201201125815\n"
          ],
          "name": "stdout"
        }
      ]
    },
    {
      "cell_type": "code",
      "metadata": {
        "colab": {
          "base_uri": "https://localhost:8080/"
        },
        "id": "nZFD2hDn1zbq",
        "outputId": "cadc1949-75dd-4436-a5ae-100cde5c43a7"
      },
      "source": [
        "!pip install tensorflow-addons"
      ],
      "execution_count": null,
      "outputs": [
        {
          "output_type": "stream",
          "text": [
            "Requirement already satisfied: tensorflow-addons in /usr/local/lib/python3.6/dist-packages (0.8.3)\n",
            "Requirement already satisfied: typeguard in /usr/local/lib/python3.6/dist-packages (from tensorflow-addons) (2.7.1)\n"
          ],
          "name": "stdout"
        }
      ]
    },
    {
      "cell_type": "code",
      "metadata": {
        "id": "EQ8zehLcjjGF"
      },
      "source": [
        "# Import Library\n",
        "import tensorflow.keras\n",
        "from tensorflow.keras.preprocessing.image import ImageDataGenerator\n",
        "from tensorflow.keras.models import Sequential\n",
        "from tensorflow.keras.layers import Dense,Dropout,Activation,Flatten,BatchNormalization\n",
        "from tensorflow.keras.layers import Conv2D,MaxPooling2D\n",
        "import tensorflow_addons as tfa\n",
        "from tensorflow.keras.optimizers import RMSprop,SGD,Adam,Adadelta\n",
        "from tensorflow.keras.callbacks import ModelCheckpoint, EarlyStopping, ReduceLROnPlateau\n",
        "import matplotlib.pyplot as plt\n",
        "import os"
      ],
      "execution_count": null,
      "outputs": []
    },
    {
      "cell_type": "code",
      "metadata": {
        "id": "TaKQDO9xlF4K"
      },
      "source": [
        "# Variable Definition\n",
        "num_classes=7\n",
        "height,width=48,48\n",
        "batch_size=128"
      ],
      "execution_count": null,
      "outputs": []
    },
    {
      "cell_type": "code",
      "metadata": {
        "id": "pRolT_S0lOdI"
      },
      "source": [
        "!mkdir fer2013\n",
        "!mkdir fer2013/train\n",
        "!mkdir fer2013/test\n",
        "! unzip -q '/content/drive/MyDrive/Datasets/fer2013/train.zip' -d fer2013/train\n",
        "! unzip -q '/content/drive/MyDrive/Datasets/fer2013/test-public.zip' -d fer2013/test"
      ],
      "execution_count": null,
      "outputs": []
    },
    {
      "cell_type": "code",
      "metadata": {
        "id": "tKKhJq6tlIQ-"
      },
      "source": [
        "# Dataset Directory\n",
        "train_data_dir='fer2013/train'\n",
        "validation_data_dir='fer2013/test'"
      ],
      "execution_count": null,
      "outputs": []
    },
    {
      "cell_type": "code",
      "metadata": {
        "id": "pYPn6YMpRSzG"
      },
      "source": [
        "def smooth_labels(y, smooth_factor):\n",
        "    '''Convert a matrix of one-hot row-vector labels into smoothed versions.\n",
        "    https://www.dlology.com/blog/bag-of-tricks-for-image-classification-with-convolutional-neural-networks-in-keras/?fbclid=IwAR2RXBIUkuSdc21cQd3n8AG9CmGtC7MbVgEj3SFm-cfIDyHcexp7YjIhJKs\n",
        "\n",
        "    # Arguments\n",
        "        y: matrix of one-hot row-vector labels to be smoothed\n",
        "        smooth_factor: label smoothing factor (between 0 and 1)\n",
        "\n",
        "    # Returns\n",
        "        A matrix of smoothed labels.\n",
        "    '''\n",
        "    assert len(y.shape) == 2\n",
        "    if 0 <= smooth_factor <= 1:\n",
        "        # label smoothing ref: https://www.robots.ox.ac.uk/~vgg/rg/papers/reinception.pdf\n",
        "        y *= 1 - smooth_factor\n",
        "        y += smooth_factor / y.shape[1]\n",
        "    else:\n",
        "        raise Exception(\n",
        "            'Invalid label smoothing factor: ' + str(smooth_factor))\n",
        "    return y"
      ],
      "execution_count": null,
      "outputs": []
    },
    {
      "cell_type": "code",
      "metadata": {
        "id": "XrM8t7tEm5o6"
      },
      "source": [
        "train_datagen = ImageDataGenerator(\n",
        "    rescale=1./255,\n",
        "    brightness_range = [0.8,1.2],\n",
        "    featurewise_center=False,\n",
        "    featurewise_std_normalization=False,\n",
        "    rotation_range=20,\n",
        "    shear_range=0.1,\n",
        "    zoom_range=0.1,\n",
        "    width_shift_range=0.2,\n",
        "    height_shift_range=0.2,\n",
        "    horizontal_flip=True,\n",
        "    fill_mode='nearest')\n",
        "\n",
        "validation_datagen = ImageDataGenerator(rescale=1./255)"
      ],
      "execution_count": null,
      "outputs": []
    },
    {
      "cell_type": "code",
      "metadata": {
        "id": "dRXdGnz4Rn_t"
      },
      "source": [
        "def train_gen(train_datagen) :\n",
        "  while True :\n",
        "    x, y = next(train_datagen)\n",
        "    y = smooth_labels(y, 0.1)\n",
        "    yield x, y"
      ],
      "execution_count": null,
      "outputs": []
    },
    {
      "cell_type": "code",
      "metadata": {
        "colab": {
          "base_uri": "https://localhost:8080/"
        },
        "id": "3GOMLTOpm8ro",
        "outputId": "cb09c341-b547-46b7-efc6-fc86d614a8cc"
      },
      "source": [
        "train_generator = train_datagen.flow_from_directory(\n",
        " train_data_dir,\n",
        " color_mode='grayscale',\n",
        " target_size=(height,width),\n",
        " batch_size=batch_size,\n",
        " class_mode='categorical',\n",
        " shuffle=True)\n",
        "\n",
        "validation_generator = validation_datagen.flow_from_directory(\n",
        " validation_data_dir,\n",
        " color_mode='grayscale',\n",
        " target_size=(height,width),\n",
        " batch_size=batch_size,\n",
        " class_mode='categorical',\n",
        " shuffle=True)"
      ],
      "execution_count": null,
      "outputs": [
        {
          "output_type": "stream",
          "text": [
            "Found 28709 images belonging to 7 classes.\n",
            "Found 3589 images belonging to 7 classes.\n"
          ],
          "name": "stdout"
        }
      ]
    },
    {
      "cell_type": "code",
      "metadata": {
        "id": "VC9zjz9qm-ph"
      },
      "source": [
        "# Model Definition\n",
        "model = Sequential()\n",
        "#Block-1\n",
        "model.add(Conv2D(32,(3,3),padding='same',\n",
        "                 input_shape=(height,width,1), kernel_initializer='he_uniform'))\n",
        "model.add(BatchNormalization())\n",
        "model.add(Activation('relu'))\n",
        "model.add(Conv2D(32,(3,3),padding='same',\n",
        "                 input_shape=(height,width,1), kernel_initializer='he_uniform'))\n",
        "model.add(BatchNormalization())\n",
        "model.add(Activation('relu'))\n",
        "model.add(MaxPooling2D(pool_size=(2,2)))\n",
        "# model.add(Dropout(0.2))\n",
        "\n",
        "#Block-2\n",
        "model.add(Conv2D(64,(3,3),padding='same', kernel_initializer='he_uniform'))\n",
        "model.add(BatchNormalization())\n",
        "model.add(Activation('relu'))\n",
        "model.add(Conv2D(64,(3,3),padding='same', kernel_initializer='he_uniform'))\n",
        "model.add(BatchNormalization())\n",
        "model.add(Activation('relu'))\n",
        "model.add(MaxPooling2D(pool_size=(2,2)))\n",
        "model.add(Dropout(0.2))\n",
        "\n",
        "#Block-3\n",
        "# model.add(Conv2D(128,(3,3),padding='same', kernel_initializer='he_uniform'))\n",
        "# model.add(Activation('relu'))\n",
        "# model.add(BatchNormalization())\n",
        "# model.add(Conv2D(128,(3,3),padding='same', kernel_initializer='he_uniform'))\n",
        "# model.add(Activation('relu'))\n",
        "# model.add(BatchNormalization())\n",
        "model.add(Conv2D(128,(3,3),padding='same', kernel_initializer='he_uniform'))\n",
        "model.add(Activation('relu'))\n",
        "model.add(BatchNormalization())\n",
        "model.add(Conv2D(128,(3,3),padding='same', kernel_initializer='he_uniform'))\n",
        "model.add(Activation('relu'))\n",
        "model.add(BatchNormalization())\n",
        "model.add(MaxPooling2D(pool_size=(2,2)))\n",
        "# model.add(Dropout(0.2))\n",
        "\n",
        "#Block-4\n",
        "# model.add(Conv2D(256,(3,3),padding='same', kernel_initializer='he_uniform'))\n",
        "# model.add(Activation('relu'))\n",
        "# model.add(BatchNormalization())\n",
        "model.add(Conv2D(256,(3,3),padding='same', kernel_initializer='he_uniform'))\n",
        "model.add(Activation('relu'))\n",
        "model.add(BatchNormalization())\n",
        "model.add(Conv2D(256,(3,3),padding='same', kernel_initializer='he_uniform'))\n",
        "model.add(Activation('relu'))\n",
        "model.add(BatchNormalization())\n",
        "model.add(MaxPooling2D(pool_size=(2,2)))\n",
        "model.add(Dropout(0.3))\n",
        "\n",
        "#Block-5\n",
        "model.add(Flatten())\n",
        "# model.add(Dense(128, kernel_initializer='he_uniform'))\n",
        "# model.add(Activation('relu'))\n",
        "# model.add(BatchNormalization())\n",
        "# model.add(Dropout(0.3))\n",
        "\n",
        "#Block-6\n",
        "model.add(Dense(128, kernel_initializer='he_uniform'))\n",
        "model.add(BatchNormalization())\n",
        "model.add(Activation('relu'))\n",
        "model.add(Dropout(0.5))\n",
        "#Block-7\n",
        "model.add(Dense(num_classes, kernel_initializer='he_uniform'))\n",
        "model.add(Activation('softmax'))"
      ],
      "execution_count": null,
      "outputs": []
    },
    {
      "cell_type": "code",
      "metadata": {
        "colab": {
          "base_uri": "https://localhost:8080/"
        },
        "id": "YWYIL0LinCci",
        "outputId": "aee9ca16-76e5-45ec-a92e-07b1d18d6b14"
      },
      "source": [
        "model.summary()"
      ],
      "execution_count": null,
      "outputs": [
        {
          "output_type": "stream",
          "text": [
            "Model: \"sequential\"\n",
            "_________________________________________________________________\n",
            "Layer (type)                 Output Shape              Param #   \n",
            "=================================================================\n",
            "conv2d (Conv2D)              (None, 48, 48, 32)        320       \n",
            "_________________________________________________________________\n",
            "batch_normalization (BatchNo (None, 48, 48, 32)        128       \n",
            "_________________________________________________________________\n",
            "activation (Activation)      (None, 48, 48, 32)        0         \n",
            "_________________________________________________________________\n",
            "conv2d_1 (Conv2D)            (None, 48, 48, 32)        9248      \n",
            "_________________________________________________________________\n",
            "batch_normalization_1 (Batch (None, 48, 48, 32)        128       \n",
            "_________________________________________________________________\n",
            "activation_1 (Activation)    (None, 48, 48, 32)        0         \n",
            "_________________________________________________________________\n",
            "max_pooling2d (MaxPooling2D) (None, 24, 24, 32)        0         \n",
            "_________________________________________________________________\n",
            "conv2d_2 (Conv2D)            (None, 24, 24, 64)        18496     \n",
            "_________________________________________________________________\n",
            "batch_normalization_2 (Batch (None, 24, 24, 64)        256       \n",
            "_________________________________________________________________\n",
            "activation_2 (Activation)    (None, 24, 24, 64)        0         \n",
            "_________________________________________________________________\n",
            "conv2d_3 (Conv2D)            (None, 24, 24, 64)        36928     \n",
            "_________________________________________________________________\n",
            "batch_normalization_3 (Batch (None, 24, 24, 64)        256       \n",
            "_________________________________________________________________\n",
            "activation_3 (Activation)    (None, 24, 24, 64)        0         \n",
            "_________________________________________________________________\n",
            "max_pooling2d_1 (MaxPooling2 (None, 12, 12, 64)        0         \n",
            "_________________________________________________________________\n",
            "dropout (Dropout)            (None, 12, 12, 64)        0         \n",
            "_________________________________________________________________\n",
            "conv2d_4 (Conv2D)            (None, 12, 12, 128)       73856     \n",
            "_________________________________________________________________\n",
            "activation_4 (Activation)    (None, 12, 12, 128)       0         \n",
            "_________________________________________________________________\n",
            "batch_normalization_4 (Batch (None, 12, 12, 128)       512       \n",
            "_________________________________________________________________\n",
            "conv2d_5 (Conv2D)            (None, 12, 12, 128)       147584    \n",
            "_________________________________________________________________\n",
            "activation_5 (Activation)    (None, 12, 12, 128)       0         \n",
            "_________________________________________________________________\n",
            "batch_normalization_5 (Batch (None, 12, 12, 128)       512       \n",
            "_________________________________________________________________\n",
            "max_pooling2d_2 (MaxPooling2 (None, 6, 6, 128)         0         \n",
            "_________________________________________________________________\n",
            "conv2d_6 (Conv2D)            (None, 6, 6, 256)         295168    \n",
            "_________________________________________________________________\n",
            "activation_6 (Activation)    (None, 6, 6, 256)         0         \n",
            "_________________________________________________________________\n",
            "batch_normalization_6 (Batch (None, 6, 6, 256)         1024      \n",
            "_________________________________________________________________\n",
            "conv2d_7 (Conv2D)            (None, 6, 6, 256)         590080    \n",
            "_________________________________________________________________\n",
            "activation_7 (Activation)    (None, 6, 6, 256)         0         \n",
            "_________________________________________________________________\n",
            "batch_normalization_7 (Batch (None, 6, 6, 256)         1024      \n",
            "_________________________________________________________________\n",
            "max_pooling2d_3 (MaxPooling2 (None, 3, 3, 256)         0         \n",
            "_________________________________________________________________\n",
            "dropout_1 (Dropout)          (None, 3, 3, 256)         0         \n",
            "_________________________________________________________________\n",
            "flatten (Flatten)            (None, 2304)              0         \n",
            "_________________________________________________________________\n",
            "dense (Dense)                (None, 128)               295040    \n",
            "_________________________________________________________________\n",
            "batch_normalization_8 (Batch (None, 128)               512       \n",
            "_________________________________________________________________\n",
            "activation_8 (Activation)    (None, 128)               0         \n",
            "_________________________________________________________________\n",
            "dropout_2 (Dropout)          (None, 128)               0         \n",
            "_________________________________________________________________\n",
            "dense_1 (Dense)              (None, 7)                 903       \n",
            "_________________________________________________________________\n",
            "activation_9 (Activation)    (None, 7)                 0         \n",
            "=================================================================\n",
            "Total params: 1,471,975\n",
            "Trainable params: 1,469,799\n",
            "Non-trainable params: 2,176\n",
            "_________________________________________________________________\n"
          ],
          "name": "stdout"
        }
      ]
    },
    {
      "cell_type": "code",
      "metadata": {
        "id": "qIH-MhaUnD5k"
      },
      "source": [
        "# Compile and Train\n",
        "checkpoint = ModelCheckpoint('EmotionDetectionModelv5.h5',\n",
        "                             monitor='val_accuracy',\n",
        "                             mode='max',\n",
        "                             save_best_only=True,\n",
        "                             verbose=1)\n",
        "earlystop = EarlyStopping(monitor='val_loss',\n",
        "                          min_delta=0,\n",
        "                          patience=10,\n",
        "                          verbose=1,\n",
        "                          restore_best_weights=True\n",
        "                          )\n",
        "reduce_lr = ReduceLROnPlateau(monitor='val_loss',\n",
        "                              factor=0.2,\n",
        "                              patience=5,\n",
        "                              verbose=1,\n",
        "                              min_delta=0.0001)\n",
        "callbacks = [earlystop,checkpoint,reduce_lr]"
      ],
      "execution_count": null,
      "outputs": []
    },
    {
      "cell_type": "code",
      "metadata": {
        "id": "dzC3LV8vJtDS"
      },
      "source": [
        "optimizer = tfa.optimizers.AdamW(learning_rate=1e-3, weight_decay=1e-4)"
      ],
      "execution_count": null,
      "outputs": []
    },
    {
      "cell_type": "code",
      "metadata": {
        "colab": {
          "base_uri": "https://localhost:8080/"
        },
        "id": "ROFDo-SQnYc6",
        "outputId": "b7c2b148-1945-4b44-af69-3b46466c5a92"
      },
      "source": [
        "model.compile(loss='categorical_crossentropy',\n",
        " optimizer = optimizer,\n",
        " metrics=['accuracy'])\n",
        "\n",
        "nb_train_samples = 28709\n",
        "nb_validation_samples = 3589\n",
        "epochs=100\n",
        "\n",
        "history=model.fit(\n",
        " train_gen(train_generator),\n",
        " steps_per_epoch=nb_train_samples//batch_size,\n",
        " epochs=epochs,\n",
        " callbacks=callbacks,\n",
        " validation_data=validation_generator,\n",
        " validation_steps=nb_validation_samples//batch_size)"
      ],
      "execution_count": null,
      "outputs": [
        {
          "output_type": "stream",
          "text": [
            "Epoch 1/100\n",
            "224/224 [==============================] - ETA: 0s - loss: 2.0492 - accuracy: 0.2230\n",
            "Epoch 00001: val_accuracy improved from -inf to 0.25279, saving model to EmotionDetectionModelv5.h5\n",
            "224/224 [==============================] - 25s 113ms/step - loss: 2.0492 - accuracy: 0.2230 - val_loss: 1.9114 - val_accuracy: 0.2528\n",
            "Epoch 2/100\n",
            "224/224 [==============================] - ETA: 0s - loss: 1.7800 - accuracy: 0.3139\n",
            "Epoch 00002: val_accuracy improved from 0.25279 to 0.35463, saving model to EmotionDetectionModelv5.h5\n",
            "224/224 [==============================] - 25s 112ms/step - loss: 1.7800 - accuracy: 0.3139 - val_loss: 1.6683 - val_accuracy: 0.3546\n",
            "Epoch 3/100\n",
            "224/224 [==============================] - ETA: 0s - loss: 1.6372 - accuracy: 0.3989\n",
            "Epoch 00003: val_accuracy improved from 0.35463 to 0.42690, saving model to EmotionDetectionModelv5.h5\n",
            "224/224 [==============================] - 25s 112ms/step - loss: 1.6372 - accuracy: 0.3989 - val_loss: 1.4743 - val_accuracy: 0.4269\n",
            "Epoch 4/100\n",
            "224/224 [==============================] - ETA: 0s - loss: 1.5463 - accuracy: 0.4564\n",
            "Epoch 00004: val_accuracy improved from 0.42690 to 0.50084, saving model to EmotionDetectionModelv5.h5\n",
            "224/224 [==============================] - 25s 111ms/step - loss: 1.5463 - accuracy: 0.4564 - val_loss: 1.3451 - val_accuracy: 0.5008\n",
            "Epoch 5/100\n",
            "224/224 [==============================] - ETA: 0s - loss: 1.4851 - accuracy: 0.4861\n",
            "Epoch 00005: val_accuracy improved from 0.50084 to 0.52148, saving model to EmotionDetectionModelv5.h5\n",
            "224/224 [==============================] - 25s 111ms/step - loss: 1.4851 - accuracy: 0.4861 - val_loss: 1.2762 - val_accuracy: 0.5215\n",
            "Epoch 6/100\n",
            "224/224 [==============================] - ETA: 0s - loss: 1.4285 - accuracy: 0.5185\n",
            "Epoch 00006: val_accuracy did not improve from 0.52148\n",
            "224/224 [==============================] - 25s 111ms/step - loss: 1.4285 - accuracy: 0.5185 - val_loss: 1.2554 - val_accuracy: 0.5206\n",
            "Epoch 7/100\n",
            "224/224 [==============================] - ETA: 0s - loss: 1.4010 - accuracy: 0.5316\n",
            "Epoch 00007: val_accuracy improved from 0.52148 to 0.55357, saving model to EmotionDetectionModelv5.h5\n",
            "224/224 [==============================] - 26s 117ms/step - loss: 1.4010 - accuracy: 0.5316 - val_loss: 1.1895 - val_accuracy: 0.5536\n",
            "Epoch 8/100\n",
            "224/224 [==============================] - ETA: 0s - loss: 1.3674 - accuracy: 0.5468\n",
            "Epoch 00008: val_accuracy improved from 0.55357 to 0.56613, saving model to EmotionDetectionModelv5.h5\n",
            "224/224 [==============================] - 27s 118ms/step - loss: 1.3674 - accuracy: 0.5468 - val_loss: 1.1602 - val_accuracy: 0.5661\n",
            "Epoch 9/100\n",
            "224/224 [==============================] - ETA: 0s - loss: 1.3464 - accuracy: 0.5623\n",
            "Epoch 00009: val_accuracy improved from 0.56613 to 0.58287, saving model to EmotionDetectionModelv5.h5\n",
            "224/224 [==============================] - 25s 113ms/step - loss: 1.3464 - accuracy: 0.5623 - val_loss: 1.1466 - val_accuracy: 0.5829\n",
            "Epoch 10/100\n",
            "224/224 [==============================] - ETA: 0s - loss: 1.3293 - accuracy: 0.5706\n",
            "Epoch 00010: val_accuracy did not improve from 0.58287\n",
            "224/224 [==============================] - 25s 114ms/step - loss: 1.3293 - accuracy: 0.5706 - val_loss: 1.1934 - val_accuracy: 0.5488\n",
            "Epoch 11/100\n",
            "224/224 [==============================] - ETA: 0s - loss: 1.3110 - accuracy: 0.5786\n",
            "Epoch 00011: val_accuracy did not improve from 0.58287\n",
            "224/224 [==============================] - 25s 113ms/step - loss: 1.3110 - accuracy: 0.5786 - val_loss: 1.1594 - val_accuracy: 0.5636\n",
            "Epoch 12/100\n",
            "224/224 [==============================] - ETA: 0s - loss: 1.2985 - accuracy: 0.5862\n",
            "Epoch 00012: val_accuracy improved from 0.58287 to 0.59682, saving model to EmotionDetectionModelv5.h5\n",
            "224/224 [==============================] - 25s 114ms/step - loss: 1.2985 - accuracy: 0.5862 - val_loss: 1.1126 - val_accuracy: 0.5968\n",
            "Epoch 13/100\n",
            "224/224 [==============================] - ETA: 0s - loss: 1.2875 - accuracy: 0.5903\n",
            "Epoch 00013: val_accuracy improved from 0.59682 to 0.59989, saving model to EmotionDetectionModelv5.h5\n",
            "224/224 [==============================] - 26s 114ms/step - loss: 1.2875 - accuracy: 0.5903 - val_loss: 1.0834 - val_accuracy: 0.5999\n",
            "Epoch 14/100\n",
            "224/224 [==============================] - ETA: 0s - loss: 1.2749 - accuracy: 0.5988\n",
            "Epoch 00014: val_accuracy did not improve from 0.59989\n",
            "224/224 [==============================] - 26s 115ms/step - loss: 1.2749 - accuracy: 0.5988 - val_loss: 1.1097 - val_accuracy: 0.5896\n",
            "Epoch 15/100\n",
            "224/224 [==============================] - ETA: 0s - loss: 1.2669 - accuracy: 0.6031\n",
            "Epoch 00015: val_accuracy improved from 0.59989 to 0.60017, saving model to EmotionDetectionModelv5.h5\n",
            "224/224 [==============================] - 25s 113ms/step - loss: 1.2669 - accuracy: 0.6031 - val_loss: 1.1028 - val_accuracy: 0.6002\n",
            "Epoch 16/100\n",
            "224/224 [==============================] - ETA: 0s - loss: 1.2602 - accuracy: 0.6084\n",
            "Epoch 00016: val_accuracy improved from 0.60017 to 0.60910, saving model to EmotionDetectionModelv5.h5\n",
            "224/224 [==============================] - 25s 113ms/step - loss: 1.2602 - accuracy: 0.6084 - val_loss: 1.0680 - val_accuracy: 0.6091\n",
            "Epoch 17/100\n",
            "224/224 [==============================] - ETA: 0s - loss: 1.2446 - accuracy: 0.6162\n",
            "Epoch 00017: val_accuracy did not improve from 0.60910\n",
            "224/224 [==============================] - 25s 113ms/step - loss: 1.2446 - accuracy: 0.6162 - val_loss: 1.1176 - val_accuracy: 0.5868\n",
            "Epoch 18/100\n",
            "224/224 [==============================] - ETA: 0s - loss: 1.2366 - accuracy: 0.6202\n",
            "Epoch 00018: val_accuracy did not improve from 0.60910\n",
            "224/224 [==============================] - 25s 112ms/step - loss: 1.2366 - accuracy: 0.6202 - val_loss: 1.1027 - val_accuracy: 0.5924\n",
            "Epoch 19/100\n",
            "224/224 [==============================] - ETA: 0s - loss: 1.2318 - accuracy: 0.6232\n",
            "Epoch 00019: val_accuracy improved from 0.60910 to 0.61607, saving model to EmotionDetectionModelv5.h5\n",
            "224/224 [==============================] - 25s 113ms/step - loss: 1.2318 - accuracy: 0.6232 - val_loss: 1.0351 - val_accuracy: 0.6161\n",
            "Epoch 20/100\n",
            "224/224 [==============================] - ETA: 0s - loss: 1.2227 - accuracy: 0.6278\n",
            "Epoch 00020: val_accuracy improved from 0.61607 to 0.62779, saving model to EmotionDetectionModelv5.h5\n",
            "224/224 [==============================] - 25s 113ms/step - loss: 1.2227 - accuracy: 0.6278 - val_loss: 1.0292 - val_accuracy: 0.6278\n",
            "Epoch 21/100\n",
            "224/224 [==============================] - ETA: 0s - loss: 1.2196 - accuracy: 0.6311\n",
            "Epoch 00021: val_accuracy did not improve from 0.62779\n",
            "224/224 [==============================] - 25s 113ms/step - loss: 1.2196 - accuracy: 0.6311 - val_loss: 1.0646 - val_accuracy: 0.6189\n",
            "Epoch 22/100\n",
            "224/224 [==============================] - ETA: 0s - loss: 1.2103 - accuracy: 0.6346\n",
            "Epoch 00022: val_accuracy did not improve from 0.62779\n",
            "224/224 [==============================] - 25s 113ms/step - loss: 1.2103 - accuracy: 0.6346 - val_loss: 1.0532 - val_accuracy: 0.6194\n",
            "Epoch 23/100\n",
            "224/224 [==============================] - ETA: 0s - loss: 1.2041 - accuracy: 0.6375\n",
            "Epoch 00023: val_accuracy did not improve from 0.62779\n",
            "224/224 [==============================] - 25s 112ms/step - loss: 1.2041 - accuracy: 0.6375 - val_loss: 1.0676 - val_accuracy: 0.6071\n",
            "Epoch 24/100\n",
            "224/224 [==============================] - ETA: 0s - loss: 1.1979 - accuracy: 0.6396\n",
            "Epoch 00024: val_accuracy improved from 0.62779 to 0.63225, saving model to EmotionDetectionModelv5.h5\n",
            "224/224 [==============================] - 25s 112ms/step - loss: 1.1979 - accuracy: 0.6396 - val_loss: 1.0103 - val_accuracy: 0.6323\n",
            "Epoch 25/100\n",
            "224/224 [==============================] - ETA: 0s - loss: 1.1933 - accuracy: 0.6393\n",
            "Epoch 00025: val_accuracy did not improve from 0.63225\n",
            "224/224 [==============================] - 25s 112ms/step - loss: 1.1933 - accuracy: 0.6393 - val_loss: 1.0086 - val_accuracy: 0.6297\n",
            "Epoch 26/100\n",
            "224/224 [==============================] - ETA: 0s - loss: 1.1931 - accuracy: 0.6421\n",
            "Epoch 00026: val_accuracy did not improve from 0.63225\n",
            "224/224 [==============================] - 26s 114ms/step - loss: 1.1931 - accuracy: 0.6421 - val_loss: 1.0440 - val_accuracy: 0.6228\n",
            "Epoch 27/100\n",
            "224/224 [==============================] - ETA: 0s - loss: 1.1806 - accuracy: 0.6479\n",
            "Epoch 00027: val_accuracy improved from 0.63225 to 0.63728, saving model to EmotionDetectionModelv5.h5\n",
            "224/224 [==============================] - 25s 112ms/step - loss: 1.1806 - accuracy: 0.6479 - val_loss: 1.0040 - val_accuracy: 0.6373\n",
            "Epoch 28/100\n",
            "224/224 [==============================] - ETA: 0s - loss: 1.1802 - accuracy: 0.6508\n",
            "Epoch 00028: val_accuracy improved from 0.63728 to 0.63895, saving model to EmotionDetectionModelv5.h5\n",
            "224/224 [==============================] - 25s 112ms/step - loss: 1.1802 - accuracy: 0.6508 - val_loss: 1.0048 - val_accuracy: 0.6390\n",
            "Epoch 29/100\n",
            "224/224 [==============================] - ETA: 0s - loss: 1.1762 - accuracy: 0.6519\n",
            "Epoch 00029: val_accuracy did not improve from 0.63895\n",
            "224/224 [==============================] - 25s 112ms/step - loss: 1.1762 - accuracy: 0.6519 - val_loss: 1.0467 - val_accuracy: 0.6200\n",
            "Epoch 30/100\n",
            "224/224 [==============================] - ETA: 0s - loss: 1.1686 - accuracy: 0.6560\n",
            "Epoch 00030: val_accuracy did not improve from 0.63895\n",
            "224/224 [==============================] - 25s 113ms/step - loss: 1.1686 - accuracy: 0.6560 - val_loss: 1.0041 - val_accuracy: 0.6356\n",
            "Epoch 31/100\n",
            "224/224 [==============================] - ETA: 0s - loss: 1.1620 - accuracy: 0.6588\n",
            "Epoch 00031: val_accuracy did not improve from 0.63895\n",
            "224/224 [==============================] - 25s 112ms/step - loss: 1.1620 - accuracy: 0.6588 - val_loss: 1.0294 - val_accuracy: 0.6247\n",
            "Epoch 32/100\n",
            "224/224 [==============================] - ETA: 0s - loss: 1.1576 - accuracy: 0.6610\n",
            "Epoch 00032: val_accuracy improved from 0.63895 to 0.65179, saving model to EmotionDetectionModelv5.h5\n",
            "224/224 [==============================] - 25s 112ms/step - loss: 1.1576 - accuracy: 0.6610 - val_loss: 0.9813 - val_accuracy: 0.6518\n",
            "Epoch 33/100\n",
            "224/224 [==============================] - ETA: 0s - loss: 1.1607 - accuracy: 0.6598\n",
            "Epoch 00033: val_accuracy did not improve from 0.65179\n",
            "224/224 [==============================] - 25s 112ms/step - loss: 1.1607 - accuracy: 0.6598 - val_loss: 0.9983 - val_accuracy: 0.6286\n",
            "Epoch 34/100\n",
            "224/224 [==============================] - ETA: 0s - loss: 1.1539 - accuracy: 0.6617\n",
            "Epoch 00034: val_accuracy did not improve from 0.65179\n",
            "224/224 [==============================] - 25s 112ms/step - loss: 1.1539 - accuracy: 0.6617 - val_loss: 0.9782 - val_accuracy: 0.6448\n",
            "Epoch 35/100\n",
            "224/224 [==============================] - ETA: 0s - loss: 1.1488 - accuracy: 0.6685\n",
            "Epoch 00035: val_accuracy did not improve from 0.65179\n",
            "224/224 [==============================] - 25s 112ms/step - loss: 1.1488 - accuracy: 0.6685 - val_loss: 1.0012 - val_accuracy: 0.6415\n",
            "Epoch 36/100\n",
            "224/224 [==============================] - ETA: 0s - loss: 1.1430 - accuracy: 0.6697\n",
            "Epoch 00036: val_accuracy did not improve from 0.65179\n",
            "224/224 [==============================] - 25s 113ms/step - loss: 1.1430 - accuracy: 0.6697 - val_loss: 0.9826 - val_accuracy: 0.6392\n",
            "Epoch 37/100\n",
            "224/224 [==============================] - ETA: 0s - loss: 1.1447 - accuracy: 0.6698\n",
            "Epoch 00037: val_accuracy did not improve from 0.65179\n",
            "224/224 [==============================] - 25s 112ms/step - loss: 1.1447 - accuracy: 0.6698 - val_loss: 0.9804 - val_accuracy: 0.6412\n",
            "Epoch 38/100\n",
            "224/224 [==============================] - ETA: 0s - loss: 1.1405 - accuracy: 0.6725\n",
            "Epoch 00038: val_accuracy did not improve from 0.65179\n",
            "224/224 [==============================] - 25s 113ms/step - loss: 1.1405 - accuracy: 0.6725 - val_loss: 0.9666 - val_accuracy: 0.6426\n",
            "Epoch 39/100\n",
            "224/224 [==============================] - ETA: 0s - loss: 1.1403 - accuracy: 0.6706\n",
            "Epoch 00039: val_accuracy did not improve from 0.65179\n",
            "224/224 [==============================] - 25s 113ms/step - loss: 1.1403 - accuracy: 0.6706 - val_loss: 1.0154 - val_accuracy: 0.6314\n",
            "Epoch 40/100\n",
            "224/224 [==============================] - ETA: 0s - loss: 1.1279 - accuracy: 0.6802\n",
            "Epoch 00040: val_accuracy did not improve from 0.65179\n",
            "224/224 [==============================] - 25s 112ms/step - loss: 1.1279 - accuracy: 0.6802 - val_loss: 1.0034 - val_accuracy: 0.6350\n",
            "Epoch 41/100\n",
            "224/224 [==============================] - ETA: 0s - loss: 1.1305 - accuracy: 0.6750\n",
            "Epoch 00041: val_accuracy did not improve from 0.65179\n",
            "224/224 [==============================] - 25s 111ms/step - loss: 1.1305 - accuracy: 0.6750 - val_loss: 1.0343 - val_accuracy: 0.6264\n",
            "Epoch 42/100\n",
            "224/224 [==============================] - ETA: 0s - loss: 1.1279 - accuracy: 0.6775\n",
            "Epoch 00042: val_accuracy did not improve from 0.65179\n",
            "224/224 [==============================] - 25s 112ms/step - loss: 1.1279 - accuracy: 0.6775 - val_loss: 1.0003 - val_accuracy: 0.6295\n",
            "Epoch 43/100\n",
            "224/224 [==============================] - ETA: 0s - loss: 1.1192 - accuracy: 0.6818\n",
            "Epoch 00043: val_accuracy did not improve from 0.65179\n",
            "\n",
            "Epoch 00043: ReduceLROnPlateau reducing learning rate to 0.00020000000949949026.\n",
            "224/224 [==============================] - 25s 112ms/step - loss: 1.1192 - accuracy: 0.6818 - val_loss: 0.9667 - val_accuracy: 0.6454\n",
            "Epoch 44/100\n",
            "224/224 [==============================] - ETA: 0s - loss: 1.0898 - accuracy: 0.7000\n",
            "Epoch 00044: val_accuracy improved from 0.65179 to 0.66546, saving model to EmotionDetectionModelv5.h5\n",
            "224/224 [==============================] - 25s 112ms/step - loss: 1.0898 - accuracy: 0.7000 - val_loss: 0.9203 - val_accuracy: 0.6655\n",
            "Epoch 45/100\n",
            "224/224 [==============================] - ETA: 0s - loss: 1.0664 - accuracy: 0.7091\n",
            "Epoch 00045: val_accuracy improved from 0.66546 to 0.66797, saving model to EmotionDetectionModelv5.h5\n",
            "224/224 [==============================] - 25s 113ms/step - loss: 1.0664 - accuracy: 0.7091 - val_loss: 0.9159 - val_accuracy: 0.6680\n",
            "Epoch 46/100\n",
            "224/224 [==============================] - ETA: 0s - loss: 1.0659 - accuracy: 0.7084\n",
            "Epoch 00046: val_accuracy did not improve from 0.66797\n",
            "224/224 [==============================] - 25s 113ms/step - loss: 1.0659 - accuracy: 0.7084 - val_loss: 0.9170 - val_accuracy: 0.6610\n",
            "Epoch 47/100\n",
            "224/224 [==============================] - ETA: 0s - loss: 1.0514 - accuracy: 0.7186\n",
            "Epoch 00047: val_accuracy improved from 0.66797 to 0.67020, saving model to EmotionDetectionModelv5.h5\n",
            "224/224 [==============================] - 25s 113ms/step - loss: 1.0514 - accuracy: 0.7186 - val_loss: 0.9131 - val_accuracy: 0.6702\n",
            "Epoch 48/100\n",
            "224/224 [==============================] - ETA: 0s - loss: 1.0514 - accuracy: 0.7168\n",
            "Epoch 00048: val_accuracy did not improve from 0.67020\n",
            "224/224 [==============================] - 25s 112ms/step - loss: 1.0514 - accuracy: 0.7168 - val_loss: 0.9309 - val_accuracy: 0.6616\n",
            "Epoch 49/100\n",
            "224/224 [==============================] - ETA: 0s - loss: 1.0450 - accuracy: 0.7226\n",
            "Epoch 00049: val_accuracy improved from 0.67020 to 0.67467, saving model to EmotionDetectionModelv5.h5\n",
            "224/224 [==============================] - 26s 114ms/step - loss: 1.0450 - accuracy: 0.7226 - val_loss: 0.9142 - val_accuracy: 0.6747\n",
            "Epoch 50/100\n",
            "224/224 [==============================] - ETA: 0s - loss: 1.0390 - accuracy: 0.7256\n",
            "Epoch 00050: val_accuracy did not improve from 0.67467\n",
            "224/224 [==============================] - 25s 113ms/step - loss: 1.0390 - accuracy: 0.7256 - val_loss: 0.9463 - val_accuracy: 0.6585\n",
            "Epoch 51/100\n",
            "224/224 [==============================] - ETA: 0s - loss: 1.0347 - accuracy: 0.7273\n",
            "Epoch 00051: val_accuracy improved from 0.67467 to 0.68248, saving model to EmotionDetectionModelv5.h5\n",
            "224/224 [==============================] - 26s 114ms/step - loss: 1.0347 - accuracy: 0.7273 - val_loss: 0.9035 - val_accuracy: 0.6825\n",
            "Epoch 52/100\n",
            "224/224 [==============================] - ETA: 0s - loss: 1.0400 - accuracy: 0.7240\n",
            "Epoch 00052: val_accuracy did not improve from 0.68248\n",
            "224/224 [==============================] - 25s 113ms/step - loss: 1.0400 - accuracy: 0.7240 - val_loss: 0.9116 - val_accuracy: 0.6766\n",
            "Epoch 53/100\n",
            "224/224 [==============================] - ETA: 0s - loss: 1.0286 - accuracy: 0.7288\n",
            "Epoch 00053: val_accuracy did not improve from 0.68248\n",
            "224/224 [==============================] - 25s 112ms/step - loss: 1.0286 - accuracy: 0.7288 - val_loss: 0.9226 - val_accuracy: 0.6632\n",
            "Epoch 54/100\n",
            "224/224 [==============================] - ETA: 0s - loss: 1.0268 - accuracy: 0.7295\n",
            "Epoch 00054: val_accuracy did not improve from 0.68248\n",
            "224/224 [==============================] - 25s 112ms/step - loss: 1.0268 - accuracy: 0.7295 - val_loss: 0.9428 - val_accuracy: 0.6588\n",
            "Epoch 55/100\n",
            "224/224 [==============================] - ETA: 0s - loss: 1.0231 - accuracy: 0.7315\n",
            "Epoch 00055: val_accuracy did not improve from 0.68248\n",
            "224/224 [==============================] - 25s 113ms/step - loss: 1.0231 - accuracy: 0.7315 - val_loss: 0.9261 - val_accuracy: 0.6663\n",
            "Epoch 56/100\n",
            "224/224 [==============================] - ETA: 0s - loss: 1.0267 - accuracy: 0.7286\n",
            "Epoch 00056: val_accuracy did not improve from 0.68248\n",
            "\n",
            "Epoch 00056: ReduceLROnPlateau reducing learning rate to 4.0000001899898055e-05.\n",
            "224/224 [==============================] - 25s 112ms/step - loss: 1.0267 - accuracy: 0.7286 - val_loss: 0.9347 - val_accuracy: 0.6669\n",
            "Epoch 57/100\n",
            "224/224 [==============================] - ETA: 0s - loss: 1.0137 - accuracy: 0.7357\n",
            "Epoch 00057: val_accuracy did not improve from 0.68248\n",
            "224/224 [==============================] - 25s 113ms/step - loss: 1.0137 - accuracy: 0.7357 - val_loss: 0.9090 - val_accuracy: 0.6719\n",
            "Epoch 58/100\n",
            "224/224 [==============================] - ETA: 0s - loss: 1.0051 - accuracy: 0.7439\n",
            "Epoch 00058: val_accuracy did not improve from 0.68248\n",
            "224/224 [==============================] - 25s 114ms/step - loss: 1.0051 - accuracy: 0.7439 - val_loss: 0.9123 - val_accuracy: 0.6747\n",
            "Epoch 59/100\n",
            "224/224 [==============================] - ETA: 0s - loss: 1.0092 - accuracy: 0.7394\n",
            "Epoch 00059: val_accuracy did not improve from 0.68248\n",
            "224/224 [==============================] - 25s 114ms/step - loss: 1.0092 - accuracy: 0.7394 - val_loss: 0.9158 - val_accuracy: 0.6702\n",
            "Epoch 60/100\n",
            "224/224 [==============================] - ETA: 0s - loss: 1.0042 - accuracy: 0.7439\n",
            "Epoch 00060: val_accuracy did not improve from 0.68248\n",
            "224/224 [==============================] - 25s 113ms/step - loss: 1.0042 - accuracy: 0.7439 - val_loss: 0.9152 - val_accuracy: 0.6730\n",
            "Epoch 61/100\n",
            "224/224 [==============================] - ETA: 0s - loss: 1.0023 - accuracy: 0.7471Restoring model weights from the end of the best epoch.\n",
            "\n",
            "Epoch 00061: val_accuracy did not improve from 0.68248\n",
            "\n",
            "Epoch 00061: ReduceLROnPlateau reducing learning rate to 8.000000525498762e-06.\n",
            "224/224 [==============================] - 25s 113ms/step - loss: 1.0023 - accuracy: 0.7471 - val_loss: 0.9143 - val_accuracy: 0.6694\n",
            "Epoch 00061: early stopping\n"
          ],
          "name": "stdout"
        }
      ]
    },
    {
      "cell_type": "code",
      "metadata": {
        "colab": {
          "base_uri": "https://localhost:8080/",
          "height": 590
        },
        "id": "HmbrHzQUnavr",
        "outputId": "ee4ddd01-0a50-46f2-9c9f-31b6170167c3"
      },
      "source": [
        "print(history.history.keys())\n",
        "\n",
        "# summarize history for accuracy\n",
        "plt.plot(history.history['accuracy'])\n",
        "plt.plot(history.history['val_accuracy'])\n",
        "plt.title('model accuracy')\n",
        "plt.ylabel('accuracy')\n",
        "plt.xlabel('epoch')\n",
        "plt.legend(['train', 'test'], loc='upper left')\n",
        "plt.show()\n",
        "# summarize history for loss\n",
        "plt.plot(history.history['loss'])\n",
        "plt.plot(history.history['val_loss'])\n",
        "plt.title('model loss')\n",
        "plt.ylabel('loss')\n",
        "plt.xlabel('epoch')\n",
        "plt.legend(['train', 'test'], loc='upper left')\n",
        "plt.show()"
      ],
      "execution_count": null,
      "outputs": [
        {
          "output_type": "stream",
          "text": [
            "dict_keys(['loss', 'accuracy', 'val_loss', 'val_accuracy', 'lr'])\n"
          ],
          "name": "stdout"
        },
        {
          "output_type": "display_data",
          "data": {
            "image/png": "[encoded data removed]",
            "text/plain": [
              "<Figure size 432x288 with 1 Axes>"
            ]
          },
          "metadata": {
            "tags": [],
            "needs_background": "light"
          }
        },
        {
          "output_type": "display_data",
          "data": {
            "image/png": "[encoded data removed]",
            "text/plain": [
              "<Figure size 432x288 with 1 Axes>"
            ]
          },
          "metadata": {
            "tags": [],
            "needs_background": "light"
          }
        }
      ]
    },
    {
      "cell_type": "code",
      "metadata": {
        "id": "oZ0fgjQS22zc"
      },
      "source": [
        "!cp './EmotionDetectionModelv5.h5' '/content/drive/MyDrive/Colab Notebooks/DL/_Project'"
      ],
      "execution_count": null,
      "outputs": []
    },
    {
      "cell_type": "code",
      "metadata": {
        "id": "Ygv0mADSpja7"
      },
      "source": [
        ""
      ],
      "execution_count": null,
      "outputs": []
    }
  ]
}